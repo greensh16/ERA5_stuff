{
 "cells": [
  {
   "cell_type": "markdown",
   "id": "8735af17-a3e6-4365-ac0f-101fe8facc8f",
   "metadata": {},
   "source": [
    "# Libraries needed"
   ]
  },
  {
   "cell_type": "code",
   "execution_count": 1,
   "id": "8211e7fa-4b62-42b8-8fd5-64f691e75630",
   "metadata": {},
   "outputs": [
    {
     "data": {
      "text/html": [
       "<div>\n",
       "    <div style=\"width: 24px; height: 24px; background-color: #e1e1e1; border: 3px solid #9D9D9D; border-radius: 5px; position: absolute;\"> </div>\n",
       "    <div style=\"margin-left: 48px;\">\n",
       "        <h3 style=\"margin-bottom: 0px;\">Client</h3>\n",
       "        <p style=\"color: #9D9D9D; margin-bottom: 0px;\">Client-8ce8ea1a-2cf0-11ed-a397-00000748fe80</p>\n",
       "        <table style=\"width: 100%; text-align: left;\">\n",
       "\n",
       "        <tr>\n",
       "        \n",
       "            <td style=\"text-align: left;\"><strong>Connection method:</strong> Cluster object</td>\n",
       "            <td style=\"text-align: left;\"><strong>Cluster type:</strong> distributed.LocalCluster</td>\n",
       "        \n",
       "        </tr>\n",
       "\n",
       "        \n",
       "            <tr>\n",
       "                <td style=\"text-align: left;\">\n",
       "                    <strong>Dashboard: </strong> <a href=\"/proxy/8787/status\" target=\"_blank\">/proxy/8787/status</a>\n",
       "                </td>\n",
       "                <td style=\"text-align: left;\"></td>\n",
       "            </tr>\n",
       "        \n",
       "\n",
       "        </table>\n",
       "\n",
       "        \n",
       "            <details>\n",
       "            <summary style=\"margin-bottom: 20px;\"><h3 style=\"display: inline;\">Cluster Info</h3></summary>\n",
       "            <div class=\"jp-RenderedHTMLCommon jp-RenderedHTML jp-mod-trusted jp-OutputArea-output\">\n",
       "    <div style=\"width: 24px; height: 24px; background-color: #e1e1e1; border: 3px solid #9D9D9D; border-radius: 5px; position: absolute;\">\n",
       "    </div>\n",
       "    <div style=\"margin-left: 48px;\">\n",
       "        <h3 style=\"margin-bottom: 0px; margin-top: 0px;\">LocalCluster</h3>\n",
       "        <p style=\"color: #9D9D9D; margin-bottom: 0px;\">01a33cca</p>\n",
       "        <table style=\"width: 100%; text-align: left;\">\n",
       "            <tr>\n",
       "                <td style=\"text-align: left;\">\n",
       "                    <strong>Dashboard:</strong> <a href=\"/proxy/8787/status\" target=\"_blank\">/proxy/8787/status</a>\n",
       "                </td>\n",
       "                <td style=\"text-align: left;\">\n",
       "                    <strong>Workers:</strong> 2\n",
       "                </td>\n",
       "            </tr>\n",
       "            <tr>\n",
       "                <td style=\"text-align: left;\">\n",
       "                    <strong>Total threads:</strong> 2\n",
       "                </td>\n",
       "                <td style=\"text-align: left;\">\n",
       "                    <strong>Total memory:</strong> 9.00 GiB\n",
       "                </td>\n",
       "            </tr>\n",
       "            \n",
       "            <tr>\n",
       "    <td style=\"text-align: left;\"><strong>Status:</strong> running</td>\n",
       "    <td style=\"text-align: left;\"><strong>Using processes:</strong> True</td>\n",
       "</tr>\n",
       "\n",
       "            \n",
       "        </table>\n",
       "\n",
       "        <details>\n",
       "            <summary style=\"margin-bottom: 20px;\">\n",
       "                <h3 style=\"display: inline;\">Scheduler Info</h3>\n",
       "            </summary>\n",
       "\n",
       "            <div style=\"\">\n",
       "    <div>\n",
       "        <div style=\"width: 24px; height: 24px; background-color: #FFF7E5; border: 3px solid #FF6132; border-radius: 5px; position: absolute;\"> </div>\n",
       "        <div style=\"margin-left: 48px;\">\n",
       "            <h3 style=\"margin-bottom: 0px;\">Scheduler</h3>\n",
       "            <p style=\"color: #9D9D9D; margin-bottom: 0px;\">Scheduler-94a98a8d-da6a-48e5-95aa-50646d390db1</p>\n",
       "            <table style=\"width: 100%; text-align: left;\">\n",
       "                <tr>\n",
       "                    <td style=\"text-align: left;\">\n",
       "                        <strong>Comm:</strong> tcp://127.0.0.1:44679\n",
       "                    </td>\n",
       "                    <td style=\"text-align: left;\">\n",
       "                        <strong>Workers:</strong> 2\n",
       "                    </td>\n",
       "                </tr>\n",
       "                <tr>\n",
       "                    <td style=\"text-align: left;\">\n",
       "                        <strong>Dashboard:</strong> <a href=\"/proxy/8787/status\" target=\"_blank\">/proxy/8787/status</a>\n",
       "                    </td>\n",
       "                    <td style=\"text-align: left;\">\n",
       "                        <strong>Total threads:</strong> 2\n",
       "                    </td>\n",
       "                </tr>\n",
       "                <tr>\n",
       "                    <td style=\"text-align: left;\">\n",
       "                        <strong>Started:</strong> Just now\n",
       "                    </td>\n",
       "                    <td style=\"text-align: left;\">\n",
       "                        <strong>Total memory:</strong> 9.00 GiB\n",
       "                    </td>\n",
       "                </tr>\n",
       "            </table>\n",
       "        </div>\n",
       "    </div>\n",
       "\n",
       "    <details style=\"margin-left: 48px;\">\n",
       "        <summary style=\"margin-bottom: 20px;\">\n",
       "            <h3 style=\"display: inline;\">Workers</h3>\n",
       "        </summary>\n",
       "\n",
       "        \n",
       "        <div style=\"margin-bottom: 20px;\">\n",
       "            <div style=\"width: 24px; height: 24px; background-color: #DBF5FF; border: 3px solid #4CC9FF; border-radius: 5px; position: absolute;\"> </div>\n",
       "            <div style=\"margin-left: 48px;\">\n",
       "            <details>\n",
       "                <summary>\n",
       "                    <h4 style=\"margin-bottom: 0px; display: inline;\">Worker: 0</h4>\n",
       "                </summary>\n",
       "                <table style=\"width: 100%; text-align: left;\">\n",
       "                    <tr>\n",
       "                        <td style=\"text-align: left;\">\n",
       "                            <strong>Comm: </strong> tcp://127.0.0.1:42775\n",
       "                        </td>\n",
       "                        <td style=\"text-align: left;\">\n",
       "                            <strong>Total threads: </strong> 1\n",
       "                        </td>\n",
       "                    </tr>\n",
       "                    <tr>\n",
       "                        <td style=\"text-align: left;\">\n",
       "                            <strong>Dashboard: </strong> <a href=\"/proxy/33657/status\" target=\"_blank\">/proxy/33657/status</a>\n",
       "                        </td>\n",
       "                        <td style=\"text-align: left;\">\n",
       "                            <strong>Memory: </strong> 4.50 GiB\n",
       "                        </td>\n",
       "                    </tr>\n",
       "                    <tr>\n",
       "                        <td style=\"text-align: left;\">\n",
       "                            <strong>Nanny: </strong> tcp://127.0.0.1:42971\n",
       "                        </td>\n",
       "                        <td style=\"text-align: left;\"></td>\n",
       "                    </tr>\n",
       "                    <tr>\n",
       "                        <td colspan=\"2\" style=\"text-align: left;\">\n",
       "                            <strong>Local directory: </strong> /jobfs/57170414.gadi-pbs/dask-worker-space/worker-ilq5poug\n",
       "                        </td>\n",
       "                    </tr>\n",
       "\n",
       "                    \n",
       "\n",
       "                    \n",
       "\n",
       "                </table>\n",
       "            </details>\n",
       "            </div>\n",
       "        </div>\n",
       "        \n",
       "        <div style=\"margin-bottom: 20px;\">\n",
       "            <div style=\"width: 24px; height: 24px; background-color: #DBF5FF; border: 3px solid #4CC9FF; border-radius: 5px; position: absolute;\"> </div>\n",
       "            <div style=\"margin-left: 48px;\">\n",
       "            <details>\n",
       "                <summary>\n",
       "                    <h4 style=\"margin-bottom: 0px; display: inline;\">Worker: 1</h4>\n",
       "                </summary>\n",
       "                <table style=\"width: 100%; text-align: left;\">\n",
       "                    <tr>\n",
       "                        <td style=\"text-align: left;\">\n",
       "                            <strong>Comm: </strong> tcp://127.0.0.1:45731\n",
       "                        </td>\n",
       "                        <td style=\"text-align: left;\">\n",
       "                            <strong>Total threads: </strong> 1\n",
       "                        </td>\n",
       "                    </tr>\n",
       "                    <tr>\n",
       "                        <td style=\"text-align: left;\">\n",
       "                            <strong>Dashboard: </strong> <a href=\"/proxy/46015/status\" target=\"_blank\">/proxy/46015/status</a>\n",
       "                        </td>\n",
       "                        <td style=\"text-align: left;\">\n",
       "                            <strong>Memory: </strong> 4.50 GiB\n",
       "                        </td>\n",
       "                    </tr>\n",
       "                    <tr>\n",
       "                        <td style=\"text-align: left;\">\n",
       "                            <strong>Nanny: </strong> tcp://127.0.0.1:46679\n",
       "                        </td>\n",
       "                        <td style=\"text-align: left;\"></td>\n",
       "                    </tr>\n",
       "                    <tr>\n",
       "                        <td colspan=\"2\" style=\"text-align: left;\">\n",
       "                            <strong>Local directory: </strong> /jobfs/57170414.gadi-pbs/dask-worker-space/worker-5h8v1gqw\n",
       "                        </td>\n",
       "                    </tr>\n",
       "\n",
       "                    \n",
       "\n",
       "                    \n",
       "\n",
       "                </table>\n",
       "            </details>\n",
       "            </div>\n",
       "        </div>\n",
       "        \n",
       "\n",
       "    </details>\n",
       "</div>\n",
       "\n",
       "        </details>\n",
       "    </div>\n",
       "</div>\n",
       "            </details>\n",
       "        \n",
       "\n",
       "    </div>\n",
       "</div>"
      ],
      "text/plain": [
       "<Client: 'tcp://127.0.0.1:44679' processes=2 threads=2, memory=9.00 GiB>"
      ]
     },
     "execution_count": 1,
     "metadata": {},
     "output_type": "execute_result"
    }
   ],
   "source": [
    "# Import basic libraries\n",
    "import dask.distributed as dsk\n",
    "import glob\n",
    "import matplotlib.pyplot as plt\n",
    "import numpy as np\n",
    "import pandas as pd\n",
    "import xarray as xr\n",
    "\n",
    "# Plotting libraries\n",
    "import cartopy.feature as cfeature\n",
    "import cartopy.crs as ccrs\n",
    "import cmocean as cm\n",
    "import matplotlib.pyplot as plt\n",
    "\n",
    "# Start client\n",
    "clnt = dsk.Client()\n",
    "clnt"
   ]
  },
  {
   "cell_type": "markdown",
   "id": "f4cce358-bf68-4285-bcc8-301ca6cd8e66",
   "metadata": {
    "jp-MarkdownHeadingCollapsed": true,
    "tags": []
   },
   "source": [
    "# Monthly averaged data"
   ]
  },
  {
   "cell_type": "code",
   "execution_count": 2,
   "id": "94b8896b-3786-46b4-8273-cbf68ef8ca29",
   "metadata": {},
   "outputs": [],
   "source": [
    "path_era5_monthly = '/g/data/rt52/era5/single-levels/monthly-averaged/'"
   ]
  },
  {
   "cell_type": "code",
   "execution_count": 3,
   "id": "782f42b5-45e4-4eac-a6a3-848a546f31b5",
   "metadata": {},
   "outputs": [],
   "source": [
    "# These are the directory names, concatonated on the path above\n",
    "variables = ['2t', 'mtpr', '10u', '10v', 'msdrswrf', 'aluvp']"
   ]
  },
  {
   "cell_type": "markdown",
   "id": "c835af22-6ee1-4a69-817c-3e0f09c36684",
   "metadata": {},
   "source": [
    "- Open concatenated datasets:"
   ]
  },
  {
   "cell_type": "code",
   "execution_count": 4,
   "id": "ad52fab3-0e85-44fc-898b-dba3b560fae1",
   "metadata": {},
   "outputs": [
    {
     "name": "stdout",
     "output_type": "stream",
     "text": [
      "Opening: 2t\n",
      "Opened\n",
      "Opening: mtpr\n",
      "Opened\n",
      "Opening: 10u\n",
      "Opened\n",
      "Opening: 10v\n",
      "Opened\n",
      "Opening: msdrswrf\n",
      "Opened\n",
      "Opening: aluvp\n",
      "Opened\n"
     ]
    }
   ],
   "source": [
    "# data is an empty dictionary\n",
    "data = {}\n",
    "# loop for the list in variables \n",
    "for v in variables:\n",
    "    print('Opening: '+v)\n",
    "    # loop through all directories to find the data files required over multiple years\n",
    "    listv = np.sort(glob.glob(path_era5_monthly+v+'/**/*.nc'))\n",
    "    data[v] = xr.open_mfdataset(listv)\n",
    "    print('Opened')\n",
    "data['sns'] = (1 - data['aluvp']['aluvp'])*data['msdrswrf']['msdrswrf']\n",
    "data['wind'] = np.sqrt(data['10u']['u10']**2+data['10v']['v10']**2).rename('wind')"
   ]
  },
  {
   "cell_type": "markdown",
   "id": "39b64716-15db-4411-b048-d2dfce6967d6",
   "metadata": {},
   "source": [
    "- Extract the locations of interest and put them in a dataarray:"
   ]
  },
  {
   "cell_type": "code",
   "execution_count": 5,
   "id": "a89071a2-23db-41d0-8081-03b4863270b6",
   "metadata": {},
   "outputs": [],
   "source": [
    "df = pd.read_csv('/g/data/e14/jn8053/andy-pitman/islands_AUS_export.csv')\n",
    "locations = df.to_xarray()\n",
    "extracted_data = xr.Dataset(data_vars = {'ulm_ID':locations['ulm_ID'],'long':locations['long'],'lat':locations['lat']})"
   ]
  },
  {
   "cell_type": "markdown",
   "id": "6b81f8f0-befd-4813-b991-b2d3552f49fb",
   "metadata": {},
   "source": [
    "- Get nearest point in ERA5 for all variables (removing u10 and v10 from the list because we don't want them):"
   ]
  },
  {
   "cell_type": "code",
   "execution_count": null,
   "id": "7d3b78a3-f009-47d1-96fc-7b9307085f39",
   "metadata": {},
   "outputs": [],
   "source": [
    "for v in ['2t', 'mtpr', 'wind', 'msdrswrf', 'aluvp', 'sns']:\n",
    "    for var_name in data[v].data_vars:\n",
    "        ext = data[v][var_name].sel(longitude = extracted_data['long'], latitude = extracted_data['lat'], method = 'nearest')\n",
    "        extracted_data[v] = xr.DataArray(ext, \n",
    "                                         dims = {'index', 'time'}, \n",
    "                                         coords = {'index':extracted_data['index'], 'time':data[v]['time']}).rename(v)"
   ]
  },
  {
   "cell_type": "markdown",
   "id": "3b1610da-4ebc-4ef9-a9c1-d19c06808418",
   "metadata": {},
   "source": [
    "- Replace negative values in rainfall with 0"
   ]
  },
  {
   "cell_type": "code",
   "execution_count": null,
   "id": "1471be4c-0c5e-4ae6-9165-e2ce978a27be",
   "metadata": {},
   "outputs": [],
   "source": [
    "extracted_data['mtpr'] = xr.where(old_ncfile['mtpr']<0, 0, old_ncfile['mtpr'])"
   ]
  },
  {
   "cell_type": "markdown",
   "id": "39710316-1b06-41ac-8325-db894582b8c8",
   "metadata": {},
   "source": [
    "- Add land mask.\n",
    "For this, we open a variable that we know is masked. In this case, wind.\n",
    "Open just one file, we don't care about time variations"
   ]
  },
  {
   "cell_type": "code",
   "execution_count": 9,
   "id": "96d24101-bef0-4e0d-8fe0-7de3b2ec55a6",
   "metadata": {},
   "outputs": [
    {
     "data": {
      "text/plain": [
       "<matplotlib.collections.QuadMesh at 0x7f2fb58907f0>"
      ]
     },
     "execution_count": 9,
     "metadata": {},
     "output_type": "execute_result"
    },
    {
     "data": {
      "image/png": "[encoded data removed]",
      "text/plain": [
       "<Figure size 432x288 with 2 Axes>"
      ]
     },
     "metadata": {
      "needs_background": "light"
     },
     "output_type": "display_data"
    }
   ],
   "source": [
    "\n",
    "mask = xr.open_dataset('/g/data/rt52/era5/single-levels/monthly-averaged/wind/1979/wind_era5_moda_sfc_19790101-19790131.nc')['wind']\n",
    "mask = xr.where(np.isnan(mask), 1, 0).rename('land_mask')\n",
    "mask.plot()"
   ]
  },
  {
   "cell_type": "code",
   "execution_count": null,
   "id": "af188098-9b30-4e7f-b1e4-96520b5795b1",
   "metadata": {},
   "outputs": [],
   "source": [
    "ext = mask.sel(longitude = extracted_data['long'], latitude = extracted_data['lat'], method = 'nearest')\n",
    "extracted_data['land_mask'] = xr.DataArray(ext, \n",
    "                                           dims = {'index'}, \n",
    "                                           coords = {'index':extracted_data['index']})"
   ]
  },
  {
   "cell_type": "code",
   "execution_count": 11,
   "id": "10ebab29-2e32-450e-bc96-e23df4b325df",
   "metadata": {},
   "outputs": [],
   "source": [
    "# write out the data\n",
    "# This data DOESN'T have Tmax, Tmin, or RH. Go to last section in this notebook for that.\n",
    "extracted_data.to_netcdf('ERA5-monthly_averaged.nc')"
   ]
  },
  {
   "cell_type": "code",
   "execution_count": null,
   "id": "bad6ad49-0542-48e6-8451-e9a4b3efc80b",
   "metadata": {},
   "outputs": [],
   "source": []
  },
  {
   "cell_type": "code",
   "execution_count": null,
   "id": "3aacbe0e-a8dd-4e7f-a1de-b8f45a552aa5",
   "metadata": {},
   "outputs": [],
   "source": []
  },
  {
   "cell_type": "markdown",
   "id": "4c1b8336-bd9c-4af4-be84-bb76743a10a5",
   "metadata": {
    "tags": []
   },
   "source": [
    "# Daily averaged data"
   ]
  },
  {
   "cell_type": "code",
   "execution_count": 2,
   "id": "2ba0b310-3eea-4fc6-ae02-39c7118d6680",
   "metadata": {},
   "outputs": [],
   "source": [
    "df = pd.read_csv('/g/data/e14/jn8053/andy-pitman/islands_AUS_export.csv')\n",
    "locations = df.to_xarray()\n",
    "extracted_data = xr.Dataset(data_vars = {'ulm_ID':locations['ulm_ID'],'long':locations['long'],'lat':locations['lat']})"
   ]
  },
  {
   "cell_type": "markdown",
   "id": "97211b27-ea97-41bc-802a-43f817f6a2ae",
   "metadata": {},
   "source": [
    "- Load the required Lat & Long coordinates\n",
    "- Resample the data from hourly to daily"
   ]
  },
  {
   "cell_type": "code",
   "execution_count": 2,
   "id": "3a4bd40b-cb97-4fac-ad8e-a70dff0d6dad",
   "metadata": {},
   "outputs": [],
   "source": [
    "def preprocessing(ds):\n",
    "    # Preprocess to extract everything above 70S\n",
    "    #ds = ds.sel(latitude = slice(90, -70), longitude = slice(-156, 156))\n",
    "    #ds = ds.sel(time = slice('2005-01-01', '2020-01-01'), longitude = slice(112, 156), latitude = slice(-7, -44))\n",
    "    ds = ds.sel(time = slice('2010-01-01', '2010-12-31'), longitude = slice(-180, 180), latitude = slice(75, -65))\n",
    "    # Resample to daily via averaging\n",
    "    ds = ds.resample(time = '1D').mean('time')\n",
    "    #ds = ds.resample(time = '1D').mean('time', keepdims=True)\n",
    "    return ds"
   ]
  },
  {
   "cell_type": "code",
   "execution_count": 3,
   "id": "ed330566-f37b-46ad-9e6b-0be3d4eff58b",
   "metadata": {},
   "outputs": [],
   "source": [
    "path_era5_daily = '/g/data/rt52/era5/single-levels/reanalysis/'"
   ]
  },
  {
   "cell_type": "markdown",
   "id": "d9e5d89c-ab0b-4911-be8d-194683ffed1a",
   "metadata": {},
   "source": [
    "- mtpr = mean_total_precipitation_rate (kg m**-2 s**-1)\n",
    "- mn2t = minimum_2m_temperature_since_previous_post_processing (K)\n",
    "- mx2t = maximum_2m_temperature_since_previous_post_processing (K)\n",
    "- 10fg = 10m_wind_gust_since_previous_post_processing (m s**-1)\n",
    "- 10si = 10m wind speed (m s**-1)"
   ]
  },
  {
   "cell_type": "code",
   "execution_count": 4,
   "id": "cc8da34f-4b5e-4110-9bb2-965b2cf0d5e1",
   "metadata": {
    "tags": []
   },
   "outputs": [],
   "source": [
    "#variables = ['mtpr', 'mn2t', 'mx2t', '10fg']\n",
    "variables = ['mtpr']"
   ]
  },
  {
   "cell_type": "markdown",
   "id": "9cc41a14-546f-465c-854e-5424a8ce7be8",
   "metadata": {
    "tags": []
   },
   "source": [
    "- Open the datasets and apply the preprocessing function"
   ]
  },
  {
   "cell_type": "code",
   "execution_count": 5,
   "id": "d95c380e-10b5-4973-bae8-b7791c3e3306",
   "metadata": {},
   "outputs": [
    {
     "name": "stdout",
     "output_type": "stream",
     "text": [
      "Opening: mtpr\n",
      "Opened\n"
     ]
    }
   ],
   "source": [
    "data = {}\n",
    "for v in variables:\n",
    "    print('Opening: '+v)\n",
    "    listv = np.sort(glob.glob(path_era5_daily+v+'/20*/*.nc'))\n",
    "    data[v] = xr.open_mfdataset(listv, chunks = {'time': -1})\n",
    "    print('Opened')"
   ]
  },
  {
   "cell_type": "code",
   "execution_count": 9,
   "id": "e4cd54f3-d253-4a6d-9e28-c1d638bcddb7",
   "metadata": {},
   "outputs": [],
   "source": [
    "ds = preprocessing(data['mtpr'])"
   ]
  },
  {
   "cell_type": "code",
   "execution_count": 6,
   "id": "c6bbebc9-e991-4086-876b-52deb5c51ac5",
   "metadata": {},
   "outputs": [
    {
     "name": "stdout",
     "output_type": "stream",
     "text": [
      "Processing: mtpr\n",
      "Processed\n"
     ]
    }
   ],
   "source": [
    "data_process = {}\n",
    "for i in data:\n",
    "    print('Processing: '+i)\n",
    "    data_process[i] = preprocessing(data[i])\n",
    "    print('Processed')"
   ]
  },
  {
   "cell_type": "code",
   "execution_count": 12,
   "id": "8ad6b22c-b009-47f8-a336-963006a0b79d",
   "metadata": {},
   "outputs": [
    {
     "data": {
      "text/plain": [
       "{'mtpr': <xarray.Dataset>\n",
       " Dimensions:    (longitude: 1440, latitude: 561, time: 365)\n",
       " Coordinates:\n",
       "   * longitude  (longitude) float32 -180.0 -179.8 -179.5 ... 179.2 179.5 179.8\n",
       "   * latitude   (latitude) float32 75.0 74.75 74.5 74.25 ... -64.5 -64.75 -65.0\n",
       "   * time       (time) datetime64[ns] 2010-01-01 2010-01-02 ... 2010-12-31\n",
       " Data variables:\n",
       "     mtpr       (time, latitude, longitude) float32 dask.array<chunksize=(1, 561, 1440), meta=np.ndarray>}"
      ]
     },
     "execution_count": 12,
     "metadata": {},
     "output_type": "execute_result"
    }
   ],
   "source": [
    "data_process"
   ]
  },
  {
   "cell_type": "code",
   "execution_count": 15,
   "id": "2936145b-8bf7-4e63-92f4-2aa80a907944",
   "metadata": {},
   "outputs": [],
   "source": [
    "comp = dict(zlib=True, complevel=5)\n",
    "encoding = {var: comp for var in data_process['mtpr'].data_vars}"
   ]
  },
  {
   "cell_type": "code",
   "execution_count": null,
   "id": "df66a3e4-d259-4e3f-b97a-9ac98953a60b",
   "metadata": {},
   "outputs": [],
   "source": [
    "data_process['mtpr'].to_netcdf('/g/data/w40/sg7549/ERA5_stuff/mean_rainfall_mtpr_2010.nc', encoding=encoding)"
   ]
  },
  {
   "cell_type": "code",
   "execution_count": null,
   "id": "a5b17805-ecfc-477c-9293-422d0a9a8381",
   "metadata": {},
   "outputs": [],
   "source": []
  },
  {
   "cell_type": "code",
   "execution_count": null,
   "id": "79e60a54-bd75-499f-982b-7799d997a0fc",
   "metadata": {},
   "outputs": [],
   "source": []
  },
  {
   "cell_type": "code",
   "execution_count": null,
   "id": "d45dd6e3-3db2-4e28-8074-04741b37e7c6",
   "metadata": {},
   "outputs": [],
   "source": []
  },
  {
   "cell_type": "code",
   "execution_count": null,
   "id": "edbc28cb-340c-49c2-b143-0e1afc73fcc0",
   "metadata": {},
   "outputs": [],
   "source": [
    "extracted_data.to_netcdf('ERA5-daily_averaged.nc', encoding=encoding)"
   ]
  },
  {
   "cell_type": "code",
   "execution_count": 41,
   "id": "b58409e2-2e41-46f6-b85f-d3ad51e5eeeb",
   "metadata": {},
   "outputs": [],
   "source": [
    "#data_day = {}\n",
    "#for var in data_process:\n",
    "#    data_day[var] = data_process[var].resample(time = '1D').mean('time', keepdims=False)"
   ]
  },
  {
   "cell_type": "code",
   "execution_count": null,
   "id": "cfead7f9-9534-4033-8669-c660f1814e3c",
   "metadata": {},
   "outputs": [],
   "source": [
    "for v in variables:\n",
    "    for var_name in data_process[v].data_vars:\n",
    "        ext = data_process[v][var_nam].sel(longitude = extracted_data['long'], latitude = extracted_data['lat'], method = 'nearest')\n",
    "        extracted_data[v] = xr.DataArray(ext, \n",
    "                                         dims = {'index', 'time'}, \n",
    "                                         coords = {'index':extracted_data['index'], 'time':data_process[v]['time']}).rename(v)"
   ]
  },
  {
   "cell_type": "code",
   "execution_count": null,
   "id": "de2f4c15-13e1-46c7-bcca-cecae575a1d6",
   "metadata": {},
   "outputs": [],
   "source": []
  },
  {
   "cell_type": "markdown",
   "id": "dc265282-f94b-468b-8a81-0aed358d1bc5",
   "metadata": {},
   "source": [
    "## Testing that the file was saved correctly:"
   ]
  },
  {
   "cell_type": "code",
   "execution_count": 70,
   "id": "08a59002-617d-4664-b7ae-8ac6592649de",
   "metadata": {},
   "outputs": [],
   "source": [
    "data = xr.open_dataset('/g/data/w40/sg7549/ERA5_stuff/ERA5-daily_averaged_mtpr.nc')"
   ]
  },
  {
   "cell_type": "code",
   "execution_count": 2,
   "id": "2545aba9-96fa-4cbc-9448-5c62bcd92416",
   "metadata": {},
   "outputs": [],
   "source": [
    "data = xr.open_dataset('/g/data/w40/sg7549/ERA5_stuff/mean_rainfall_mtpr_2010_noencode.nc')"
   ]
  },
  {
   "cell_type": "code",
   "execution_count": 3,
   "id": "ad1710ae-66ac-4819-b634-58c2d091d82f",
   "metadata": {},
   "outputs": [
    {
     "data": {
      "text/html": [
       "<div><svg style=\"position: absolute; width: 0; height: 0; overflow: hidden\">\n",
       "<defs>\n",
       "<symbol id=\"icon-database\" viewBox=\"0 0 32 32\">\n",
       "<path d=\"M16 0c-8.837 0-16 2.239-16 5v4c0 2.761 7.163 5 16 5s16-2.239 16-5v-4c0-2.761-7.163-5-16-5z\"></path>\n",
       "<path d=\"M16 17c-8.837 0-16-2.239-16-5v6c0 2.761 7.163 5 16 5s16-2.239 16-5v-6c0 2.761-7.163 5-16 5z\"></path>\n",
       "<path d=\"M16 26c-8.837 0-16-2.239-16-5v6c0 2.761 7.163 5 16 5s16-2.239 16-5v-6c0 2.761-7.163 5-16 5z\"></path>\n",
       "</symbol>\n",
       "<symbol id=\"icon-file-text2\" viewBox=\"0 0 32 32\">\n",
       "<path d=\"M28.681 7.159c-0.694-0.947-1.662-2.053-2.724-3.116s-2.169-2.030-3.116-2.724c-1.612-1.182-2.393-1.319-2.841-1.319h-15.5c-1.378 0-2.5 1.121-2.5 2.5v27c0 1.378 1.122 2.5 2.5 2.5h23c1.378 0 2.5-1.122 2.5-2.5v-19.5c0-0.448-0.137-1.23-1.319-2.841zM24.543 5.457c0.959 0.959 1.712 1.825 2.268 2.543h-4.811v-4.811c0.718 0.556 1.584 1.309 2.543 2.268zM28 29.5c0 0.271-0.229 0.5-0.5 0.5h-23c-0.271 0-0.5-0.229-0.5-0.5v-27c0-0.271 0.229-0.5 0.5-0.5 0 0 15.499-0 15.5 0v7c0 0.552 0.448 1 1 1h7v19.5z\"></path>\n",
       "<path d=\"M23 26h-14c-0.552 0-1-0.448-1-1s0.448-1 1-1h14c0.552 0 1 0.448 1 1s-0.448 1-1 1z\"></path>\n",
       "<path d=\"M23 22h-14c-0.552 0-1-0.448-1-1s0.448-1 1-1h14c0.552 0 1 0.448 1 1s-0.448 1-1 1z\"></path>\n",
       "<path d=\"M23 18h-14c-0.552 0-1-0.448-1-1s0.448-1 1-1h14c0.552 0 1 0.448 1 1s-0.448 1-1 1z\"></path>\n",
       "</symbol>\n",
       "</defs>\n",
       "</svg>\n",
       "<style>/* CSS stylesheet for displaying xarray objects in jupyterlab.\n",
       " *\n",
       " */\n",
       "\n",
       ":root {\n",
       "  --xr-font-color0: var(--jp-content-font-color0, rgba(0, 0, 0, 1));\n",
       "  --xr-font-color2: var(--jp-content-font-color2, rgba(0, 0, 0, 0.54));\n",
       "  --xr-font-color3: var(--jp-content-font-color3, rgba(0, 0, 0, 0.38));\n",
       "  --xr-border-color: var(--jp-border-color2, #e0e0e0);\n",
       "  --xr-disabled-color: var(--jp-layout-color3, #bdbdbd);\n",
       "  --xr-background-color: var(--jp-layout-color0, white);\n",
       "  --xr-background-color-row-even: var(--jp-layout-color1, white);\n",
       "  --xr-background-color-row-odd: var(--jp-layout-color2, #eeeeee);\n",
       "}\n",
       "\n",
       "html[theme=dark],\n",
       "body.vscode-dark {\n",
       "  --xr-font-color0: rgba(255, 255, 255, 1);\n",
       "  --xr-font-color2: rgba(255, 255, 255, 0.54);\n",
       "  --xr-font-color3: rgba(255, 255, 255, 0.38);\n",
       "  --xr-border-color: #1F1F1F;\n",
       "  --xr-disabled-color: #515151;\n",
       "  --xr-background-color: #111111;\n",
       "  --xr-background-color-row-even: #111111;\n",
       "  --xr-background-color-row-odd: #313131;\n",
       "}\n",
       "\n",
       ".xr-wrap {\n",
       "  display: block !important;\n",
       "  min-width: 300px;\n",
       "  max-width: 700px;\n",
       "}\n",
       "\n",
       ".xr-text-repr-fallback {\n",
       "  /* fallback to plain text repr when CSS is not injected (untrusted notebook) */\n",
       "  display: none;\n",
       "}\n",
       "\n",
       ".xr-header {\n",
       "  padding-top: 6px;\n",
       "  padding-bottom: 6px;\n",
       "  margin-bottom: 4px;\n",
       "  border-bottom: solid 1px var(--xr-border-color);\n",
       "}\n",
       "\n",
       ".xr-header > div,\n",
       ".xr-header > ul {\n",
       "  display: inline;\n",
       "  margin-top: 0;\n",
       "  margin-bottom: 0;\n",
       "}\n",
       "\n",
       ".xr-obj-type,\n",
       ".xr-array-name {\n",
       "  margin-left: 2px;\n",
       "  margin-right: 10px;\n",
       "}\n",
       "\n",
       ".xr-obj-type {\n",
       "  color: var(--xr-font-color2);\n",
       "}\n",
       "\n",
       ".xr-sections {\n",
       "  padding-left: 0 !important;\n",
       "  display: grid;\n",
       "  grid-template-columns: 150px auto auto 1fr 20px 20px;\n",
       "}\n",
       "\n",
       ".xr-section-item {\n",
       "  display: contents;\n",
       "}\n",
       "\n",
       ".xr-section-item input {\n",
       "  display: none;\n",
       "}\n",
       "\n",
       ".xr-section-item input + label {\n",
       "  color: var(--xr-disabled-color);\n",
       "}\n",
       "\n",
       ".xr-section-item input:enabled + label {\n",
       "  cursor: pointer;\n",
       "  color: var(--xr-font-color2);\n",
       "}\n",
       "\n",
       ".xr-section-item input:enabled + label:hover {\n",
       "  color: var(--xr-font-color0);\n",
       "}\n",
       "\n",
       ".xr-section-summary {\n",
       "  grid-column: 1;\n",
       "  color: var(--xr-font-color2);\n",
       "  font-weight: 500;\n",
       "}\n",
       "\n",
       ".xr-section-summary > span {\n",
       "  display: inline-block;\n",
       "  padding-left: 0.5em;\n",
       "}\n",
       "\n",
       ".xr-section-summary-in:disabled + label {\n",
       "  color: var(--xr-font-color2);\n",
       "}\n",
       "\n",
       ".xr-section-summary-in + label:before {\n",
       "  display: inline-block;\n",
       "  content: '►';\n",
       "  font-size: 11px;\n",
       "  width: 15px;\n",
       "  text-align: center;\n",
       "}\n",
       "\n",
       ".xr-section-summary-in:disabled + label:before {\n",
       "  color: var(--xr-disabled-color);\n",
       "}\n",
       "\n",
       ".xr-section-summary-in:checked + label:before {\n",
       "  content: '▼';\n",
       "}\n",
       "\n",
       ".xr-section-summary-in:checked + label > span {\n",
       "  display: none;\n",
       "}\n",
       "\n",
       ".xr-section-summary,\n",
       ".xr-section-inline-details {\n",
       "  padding-top: 4px;\n",
       "  padding-bottom: 4px;\n",
       "}\n",
       "\n",
       ".xr-section-inline-details {\n",
       "  grid-column: 2 / -1;\n",
       "}\n",
       "\n",
       ".xr-section-details {\n",
       "  display: none;\n",
       "  grid-column: 1 / -1;\n",
       "  margin-bottom: 5px;\n",
       "}\n",
       "\n",
       ".xr-section-summary-in:checked ~ .xr-section-details {\n",
       "  display: contents;\n",
       "}\n",
       "\n",
       ".xr-array-wrap {\n",
       "  grid-column: 1 / -1;\n",
       "  display: grid;\n",
       "  grid-template-columns: 20px auto;\n",
       "}\n",
       "\n",
       ".xr-array-wrap > label {\n",
       "  grid-column: 1;\n",
       "  vertical-align: top;\n",
       "}\n",
       "\n",
       ".xr-preview {\n",
       "  color: var(--xr-font-color3);\n",
       "}\n",
       "\n",
       ".xr-array-preview,\n",
       ".xr-array-data {\n",
       "  padding: 0 5px !important;\n",
       "  grid-column: 2;\n",
       "}\n",
       "\n",
       ".xr-array-data,\n",
       ".xr-array-in:checked ~ .xr-array-preview {\n",
       "  display: none;\n",
       "}\n",
       "\n",
       ".xr-array-in:checked ~ .xr-array-data,\n",
       ".xr-array-preview {\n",
       "  display: inline-block;\n",
       "}\n",
       "\n",
       ".xr-dim-list {\n",
       "  display: inline-block !important;\n",
       "  list-style: none;\n",
       "  padding: 0 !important;\n",
       "  margin: 0;\n",
       "}\n",
       "\n",
       ".xr-dim-list li {\n",
       "  display: inline-block;\n",
       "  padding: 0;\n",
       "  margin: 0;\n",
       "}\n",
       "\n",
       ".xr-dim-list:before {\n",
       "  content: '(';\n",
       "}\n",
       "\n",
       ".xr-dim-list:after {\n",
       "  content: ')';\n",
       "}\n",
       "\n",
       ".xr-dim-list li:not(:last-child):after {\n",
       "  content: ',';\n",
       "  padding-right: 5px;\n",
       "}\n",
       "\n",
       ".xr-has-index {\n",
       "  font-weight: bold;\n",
       "}\n",
       "\n",
       ".xr-var-list,\n",
       ".xr-var-item {\n",
       "  display: contents;\n",
       "}\n",
       "\n",
       ".xr-var-item > div,\n",
       ".xr-var-item label,\n",
       ".xr-var-item > .xr-var-name span {\n",
       "  background-color: var(--xr-background-color-row-even);\n",
       "  margin-bottom: 0;\n",
       "}\n",
       "\n",
       ".xr-var-item > .xr-var-name:hover span {\n",
       "  padding-right: 5px;\n",
       "}\n",
       "\n",
       ".xr-var-list > li:nth-child(odd) > div,\n",
       ".xr-var-list > li:nth-child(odd) > label,\n",
       ".xr-var-list > li:nth-child(odd) > .xr-var-name span {\n",
       "  background-color: var(--xr-background-color-row-odd);\n",
       "}\n",
       "\n",
       ".xr-var-name {\n",
       "  grid-column: 1;\n",
       "}\n",
       "\n",
       ".xr-var-dims {\n",
       "  grid-column: 2;\n",
       "}\n",
       "\n",
       ".xr-var-dtype {\n",
       "  grid-column: 3;\n",
       "  text-align: right;\n",
       "  color: var(--xr-font-color2);\n",
       "}\n",
       "\n",
       ".xr-var-preview {\n",
       "  grid-column: 4;\n",
       "}\n",
       "\n",
       ".xr-var-name,\n",
       ".xr-var-dims,\n",
       ".xr-var-dtype,\n",
       ".xr-preview,\n",
       ".xr-attrs dt {\n",
       "  white-space: nowrap;\n",
       "  overflow: hidden;\n",
       "  text-overflow: ellipsis;\n",
       "  padding-right: 10px;\n",
       "}\n",
       "\n",
       ".xr-var-name:hover,\n",
       ".xr-var-dims:hover,\n",
       ".xr-var-dtype:hover,\n",
       ".xr-attrs dt:hover {\n",
       "  overflow: visible;\n",
       "  width: auto;\n",
       "  z-index: 1;\n",
       "}\n",
       "\n",
       ".xr-var-attrs,\n",
       ".xr-var-data {\n",
       "  display: none;\n",
       "  background-color: var(--xr-background-color) !important;\n",
       "  padding-bottom: 5px !important;\n",
       "}\n",
       "\n",
       ".xr-var-attrs-in:checked ~ .xr-var-attrs,\n",
       ".xr-var-data-in:checked ~ .xr-var-data {\n",
       "  display: block;\n",
       "}\n",
       "\n",
       ".xr-var-data > table {\n",
       "  float: right;\n",
       "}\n",
       "\n",
       ".xr-var-name span,\n",
       ".xr-var-data,\n",
       ".xr-attrs {\n",
       "  padding-left: 25px !important;\n",
       "}\n",
       "\n",
       ".xr-attrs,\n",
       ".xr-var-attrs,\n",
       ".xr-var-data {\n",
       "  grid-column: 1 / -1;\n",
       "}\n",
       "\n",
       "dl.xr-attrs {\n",
       "  padding: 0;\n",
       "  margin: 0;\n",
       "  display: grid;\n",
       "  grid-template-columns: 125px auto;\n",
       "}\n",
       "\n",
       ".xr-attrs dt,\n",
       ".xr-attrs dd {\n",
       "  padding: 0;\n",
       "  margin: 0;\n",
       "  float: left;\n",
       "  padding-right: 10px;\n",
       "  width: auto;\n",
       "}\n",
       "\n",
       ".xr-attrs dt {\n",
       "  font-weight: normal;\n",
       "  grid-column: 1;\n",
       "}\n",
       "\n",
       ".xr-attrs dt:hover span {\n",
       "  display: inline-block;\n",
       "  background: var(--xr-background-color);\n",
       "  padding-right: 10px;\n",
       "}\n",
       "\n",
       ".xr-attrs dd {\n",
       "  grid-column: 2;\n",
       "  white-space: pre-wrap;\n",
       "  word-break: break-all;\n",
       "}\n",
       "\n",
       ".xr-icon-database,\n",
       ".xr-icon-file-text2 {\n",
       "  display: inline-block;\n",
       "  vertical-align: middle;\n",
       "  width: 1em;\n",
       "  height: 1.5em !important;\n",
       "  stroke-width: 0;\n",
       "  stroke: currentColor;\n",
       "  fill: currentColor;\n",
       "}\n",
       "</style><pre class='xr-text-repr-fallback'>&lt;xarray.Dataset&gt;\n",
       "Dimensions:    (time: 365, longitude: 1440, latitude: 561)\n",
       "Coordinates:\n",
       "  * time       (time) datetime64[ns] 2010-01-01 2010-01-02 ... 2010-12-31\n",
       "  * longitude  (longitude) float32 -180.0 -179.8 -179.5 ... 179.2 179.5 179.8\n",
       "  * latitude   (latitude) float32 75.0 74.75 74.5 74.25 ... -64.5 -64.75 -65.0\n",
       "Data variables:\n",
       "    mtpr       (time, latitude, longitude) float32 ...</pre><div class='xr-wrap' style='display:none'><div class='xr-header'><div class='xr-obj-type'>xarray.Dataset</div></div><ul class='xr-sections'><li class='xr-section-item'><input id='section-6aeadd82-ee3b-4d94-8b16-ccca49a11a12' class='xr-section-summary-in' type='checkbox' disabled ><label for='section-6aeadd82-ee3b-4d94-8b16-ccca49a11a12' class='xr-section-summary'  title='Expand/collapse section'>Dimensions:</label><div class='xr-section-inline-details'><ul class='xr-dim-list'><li><span class='xr-has-index'>time</span>: 365</li><li><span class='xr-has-index'>longitude</span>: 1440</li><li><span class='xr-has-index'>latitude</span>: 561</li></ul></div><div class='xr-section-details'></div></li><li class='xr-section-item'><input id='section-1996c07b-9d2b-4ae0-af22-12450db73493' class='xr-section-summary-in' type='checkbox'  checked><label for='section-1996c07b-9d2b-4ae0-af22-12450db73493' class='xr-section-summary' >Coordinates: <span>(3)</span></label><div class='xr-section-inline-details'></div><div class='xr-section-details'><ul class='xr-var-list'><li class='xr-var-item'><div class='xr-var-name'><span class='xr-has-index'>time</span></div><div class='xr-var-dims'>(time)</div><div class='xr-var-dtype'>datetime64[ns]</div><div class='xr-var-preview xr-preview'>2010-01-01 ... 2010-12-31</div><input id='attrs-5065e586-a66e-4209-8719-00a85792ffc0' class='xr-var-attrs-in' type='checkbox' disabled><label for='attrs-5065e586-a66e-4209-8719-00a85792ffc0' title='Show/Hide attributes'><svg class='icon xr-icon-file-text2'><use xlink:href='#icon-file-text2'></use></svg></label><input id='data-cea894c3-1ccb-4650-b98a-38863a74f8fd' class='xr-var-data-in' type='checkbox'><label for='data-cea894c3-1ccb-4650-b98a-38863a74f8fd' title='Show/Hide data repr'><svg class='icon xr-icon-database'><use xlink:href='#icon-database'></use></svg></label><div class='xr-var-attrs'><dl class='xr-attrs'></dl></div><div class='xr-var-data'><pre>array([&#x27;2010-01-01T00:00:00.000000000&#x27;, &#x27;2010-01-02T00:00:00.000000000&#x27;,\n",
       "       &#x27;2010-01-03T00:00:00.000000000&#x27;, ..., &#x27;2010-12-29T00:00:00.000000000&#x27;,\n",
       "       &#x27;2010-12-30T00:00:00.000000000&#x27;, &#x27;2010-12-31T00:00:00.000000000&#x27;],\n",
       "      dtype=&#x27;datetime64[ns]&#x27;)</pre></div></li><li class='xr-var-item'><div class='xr-var-name'><span class='xr-has-index'>longitude</span></div><div class='xr-var-dims'>(longitude)</div><div class='xr-var-dtype'>float32</div><div class='xr-var-preview xr-preview'>-180.0 -179.8 ... 179.5 179.8</div><input id='attrs-d6c0f541-52ac-4bf8-810f-c8d76979bb63' class='xr-var-attrs-in' type='checkbox' ><label for='attrs-d6c0f541-52ac-4bf8-810f-c8d76979bb63' title='Show/Hide attributes'><svg class='icon xr-icon-file-text2'><use xlink:href='#icon-file-text2'></use></svg></label><input id='data-64ae8cce-98c0-4821-b9ce-081a569af757' class='xr-var-data-in' type='checkbox'><label for='data-64ae8cce-98c0-4821-b9ce-081a569af757' title='Show/Hide data repr'><svg class='icon xr-icon-database'><use xlink:href='#icon-database'></use></svg></label><div class='xr-var-attrs'><dl class='xr-attrs'><dt><span>units :</span></dt><dd>degrees_east</dd><dt><span>long_name :</span></dt><dd>longitude</dd></dl></div><div class='xr-var-data'><pre>array([-180.  , -179.75, -179.5 , ...,  179.25,  179.5 ,  179.75],\n",
       "      dtype=float32)</pre></div></li><li class='xr-var-item'><div class='xr-var-name'><span class='xr-has-index'>latitude</span></div><div class='xr-var-dims'>(latitude)</div><div class='xr-var-dtype'>float32</div><div class='xr-var-preview xr-preview'>75.0 74.75 74.5 ... -64.75 -65.0</div><input id='attrs-4ffebbf0-292d-48d2-adc5-0a2592948e1c' class='xr-var-attrs-in' type='checkbox' ><label for='attrs-4ffebbf0-292d-48d2-adc5-0a2592948e1c' title='Show/Hide attributes'><svg class='icon xr-icon-file-text2'><use xlink:href='#icon-file-text2'></use></svg></label><input id='data-f5d0bb5e-342a-4bb9-a298-867ebee653c5' class='xr-var-data-in' type='checkbox'><label for='data-f5d0bb5e-342a-4bb9-a298-867ebee653c5' title='Show/Hide data repr'><svg class='icon xr-icon-database'><use xlink:href='#icon-database'></use></svg></label><div class='xr-var-attrs'><dl class='xr-attrs'><dt><span>units :</span></dt><dd>degrees_north</dd><dt><span>long_name :</span></dt><dd>latitude</dd></dl></div><div class='xr-var-data'><pre>array([ 75.  ,  74.75,  74.5 , ..., -64.5 , -64.75, -65.  ], dtype=float32)</pre></div></li></ul></div></li><li class='xr-section-item'><input id='section-1ca8f5e7-2bc7-4989-a9f3-5a9fd38901aa' class='xr-section-summary-in' type='checkbox'  checked><label for='section-1ca8f5e7-2bc7-4989-a9f3-5a9fd38901aa' class='xr-section-summary' >Data variables: <span>(1)</span></label><div class='xr-section-inline-details'></div><div class='xr-section-details'><ul class='xr-var-list'><li class='xr-var-item'><div class='xr-var-name'><span>mtpr</span></div><div class='xr-var-dims'>(time, latitude, longitude)</div><div class='xr-var-dtype'>float32</div><div class='xr-var-preview xr-preview'>...</div><input id='attrs-e6c6d2b0-db02-4eba-88e8-c2fbe2af3ccf' class='xr-var-attrs-in' type='checkbox' disabled><label for='attrs-e6c6d2b0-db02-4eba-88e8-c2fbe2af3ccf' title='Show/Hide attributes'><svg class='icon xr-icon-file-text2'><use xlink:href='#icon-file-text2'></use></svg></label><input id='data-ff85158b-a91c-4fc9-b608-757c613c82f5' class='xr-var-data-in' type='checkbox'><label for='data-ff85158b-a91c-4fc9-b608-757c613c82f5' title='Show/Hide data repr'><svg class='icon xr-icon-database'><use xlink:href='#icon-database'></use></svg></label><div class='xr-var-attrs'><dl class='xr-attrs'></dl></div><div class='xr-var-data'><pre>[294861600 values with dtype=float32]</pre></div></li></ul></div></li><li class='xr-section-item'><input id='section-97d3011d-4b1c-4e57-acd2-292f7c693562' class='xr-section-summary-in' type='checkbox' disabled ><label for='section-97d3011d-4b1c-4e57-acd2-292f7c693562' class='xr-section-summary'  title='Expand/collapse section'>Attributes: <span>(0)</span></label><div class='xr-section-inline-details'></div><div class='xr-section-details'><dl class='xr-attrs'></dl></div></li></ul></div></div>"
      ],
      "text/plain": [
       "<xarray.Dataset>\n",
       "Dimensions:    (time: 365, longitude: 1440, latitude: 561)\n",
       "Coordinates:\n",
       "  * time       (time) datetime64[ns] 2010-01-01 2010-01-02 ... 2010-12-31\n",
       "  * longitude  (longitude) float32 -180.0 -179.8 -179.5 ... 179.2 179.5 179.8\n",
       "  * latitude   (latitude) float32 75.0 74.75 74.5 74.25 ... -64.5 -64.75 -65.0\n",
       "Data variables:\n",
       "    mtpr       (time, latitude, longitude) float32 ..."
      ]
     },
     "execution_count": 3,
     "metadata": {},
     "output_type": "execute_result"
    }
   ],
   "source": [
    "data"
   ]
  },
  {
   "cell_type": "code",
   "execution_count": 4,
   "id": "35daf3d1-70b3-41e2-bdfd-68a1693f9452",
   "metadata": {},
   "outputs": [
    {
     "data": {
      "text/plain": [
       "(365, 561, 1440)"
      ]
     },
     "execution_count": 4,
     "metadata": {},
     "output_type": "execute_result"
    }
   ],
   "source": [
    "data['mtpr'].shape"
   ]
  },
  {
   "cell_type": "code",
   "execution_count": 5,
   "id": "57a9d784-bacc-4ec5-919b-1fa63330e7a7",
   "metadata": {},
   "outputs": [
    {
     "data": {
      "text/plain": [
       "(1440,)"
      ]
     },
     "execution_count": 5,
     "metadata": {},
     "output_type": "execute_result"
    }
   ],
   "source": [
    "data['longitude'].shape"
   ]
  },
  {
   "cell_type": "code",
   "execution_count": 107,
   "id": "abae5eb0-c508-4cd1-946e-c8f761d5bb16",
   "metadata": {},
   "outputs": [
    {
     "data": {
      "text/plain": [
       "(5480,)"
      ]
     },
     "execution_count": 107,
     "metadata": {},
     "output_type": "execute_result"
    }
   ],
   "source": [
    "data['mtpr'][:, 0, 0].shape"
   ]
  },
  {
   "cell_type": "code",
   "execution_count": 13,
   "id": "fbae3816-83ee-4370-b57c-df10b0798ab8",
   "metadata": {},
   "outputs": [
    {
     "data": {
      "text/plain": [
       "<matplotlib.legend.Legend at 0x148cec926eb0>"
      ]
     },
     "execution_count": 13,
     "metadata": {},
     "output_type": "execute_result"
    },
    {
     "data": {
      "image/png": "[encoded data removed]",
      "text/plain": [
       "<Figure size 1296x1080 with 1 Axes>"
      ]
     },
     "metadata": {
      "needs_background": "light"
     },
     "output_type": "display_data"
    }
   ],
   "source": [
    "fig = plt.figure(figsize=(18,15))\n",
    "axs = [fig.add_subplot(611)]\n",
    "n = 0\n",
    "axs[n].plot(data['time'], data['mtpr'][:, 360, 50], label = 'mtpr')\n",
    "axs[n].set_ylabel('mtpr')\n",
    "plt.legend()"
   ]
  },
  {
   "cell_type": "code",
   "execution_count": null,
   "id": "b9b78824-c20a-4ebc-abc7-6f1c5cfd94ea",
   "metadata": {},
   "outputs": [],
   "source": []
  }
 ],
 "metadata": {
  "kernelspec": {
   "display_name": "Python 3 (ipykernel)",
   "language": "python",
   "name": "python3"
  },
  "language_info": {
   "codemirror_mode": {
    "name": "ipython",
    "version": 3
   },
   "file_extension": ".py",
   "mimetype": "text/x-python",
   "name": "python",
   "nbconvert_exporter": "python",
   "pygments_lexer": "ipython3",
   "version": "3.9.13"
  },
  "vscode": {
   "interpreter": {
    "hash": "31f2aee4e71d21fbe5cf8b01ff0e069b9275f58929596ceb00d14d90e3e16cd6"
   }
  }
 },
 "nbformat": 4,
 "nbformat_minor": 5
}
