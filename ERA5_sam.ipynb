{
 "cells": [
  {
   "cell_type": "markdown",
   "id": "8735af17-a3e6-4365-ac0f-101fe8facc8f",
   "metadata": {},
   "source": [
    "# Libraries needed"
   ]
  },
  {
   "cell_type": "code",
   "execution_count": 1,
   "id": "8211e7fa-4b62-42b8-8fd5-64f691e75630",
   "metadata": {},
   "outputs": [
    {
     "data": {
      "text/html": [
       "<div>\n",
       "    <div style=\"width: 24px; height: 24px; background-color: #e1e1e1; border: 3px solid #9D9D9D; border-radius: 5px; position: absolute;\"> </div>\n",
       "    <div style=\"margin-left: 48px;\">\n",
       "        <h3 style=\"margin-bottom: 0px;\">Client</h3>\n",
       "        <p style=\"color: #9D9D9D; margin-bottom: 0px;\">Client-60d80efe-1927-11ed-babd-fa163ebcd3ae</p>\n",
       "        <table style=\"width: 100%; text-align: left;\">\n",
       "\n",
       "        <tr>\n",
       "        \n",
       "            <td style=\"text-align: left;\"><strong>Connection method:</strong> Cluster object</td>\n",
       "            <td style=\"text-align: left;\"><strong>Cluster type:</strong> distributed.LocalCluster</td>\n",
       "        \n",
       "        </tr>\n",
       "\n",
       "        \n",
       "            <tr>\n",
       "                <td style=\"text-align: left;\">\n",
       "                    <strong>Dashboard: </strong> <a href=\"/proxy/8787/status\" target=\"_blank\">/proxy/8787/status</a>\n",
       "                </td>\n",
       "                <td style=\"text-align: left;\"></td>\n",
       "            </tr>\n",
       "        \n",
       "\n",
       "        </table>\n",
       "\n",
       "        \n",
       "            <details>\n",
       "            <summary style=\"margin-bottom: 20px;\"><h3 style=\"display: inline;\">Cluster Info</h3></summary>\n",
       "            <div class=\"jp-RenderedHTMLCommon jp-RenderedHTML jp-mod-trusted jp-OutputArea-output\">\n",
       "    <div style=\"width: 24px; height: 24px; background-color: #e1e1e1; border: 3px solid #9D9D9D; border-radius: 5px; position: absolute;\">\n",
       "    </div>\n",
       "    <div style=\"margin-left: 48px;\">\n",
       "        <h3 style=\"margin-bottom: 0px; margin-top: 0px;\">LocalCluster</h3>\n",
       "        <p style=\"color: #9D9D9D; margin-bottom: 0px;\">538af73f</p>\n",
       "        <table style=\"width: 100%; text-align: left;\">\n",
       "            <tr>\n",
       "                <td style=\"text-align: left;\">\n",
       "                    <strong>Dashboard:</strong> <a href=\"/proxy/8787/status\" target=\"_blank\">/proxy/8787/status</a>\n",
       "                </td>\n",
       "                <td style=\"text-align: left;\">\n",
       "                    <strong>Workers:</strong> 4\n",
       "                </td>\n",
       "            </tr>\n",
       "            <tr>\n",
       "                <td style=\"text-align: left;\">\n",
       "                    <strong>Total threads:</strong> 4\n",
       "                </td>\n",
       "                <td style=\"text-align: left;\">\n",
       "                    <strong>Total memory:</strong> 11.23 GiB\n",
       "                </td>\n",
       "            </tr>\n",
       "            \n",
       "            <tr>\n",
       "    <td style=\"text-align: left;\"><strong>Status:</strong> running</td>\n",
       "    <td style=\"text-align: left;\"><strong>Using processes:</strong> True</td>\n",
       "</tr>\n",
       "\n",
       "            \n",
       "        </table>\n",
       "\n",
       "        <details>\n",
       "            <summary style=\"margin-bottom: 20px;\">\n",
       "                <h3 style=\"display: inline;\">Scheduler Info</h3>\n",
       "            </summary>\n",
       "\n",
       "            <div style=\"\">\n",
       "    <div>\n",
       "        <div style=\"width: 24px; height: 24px; background-color: #FFF7E5; border: 3px solid #FF6132; border-radius: 5px; position: absolute;\"> </div>\n",
       "        <div style=\"margin-left: 48px;\">\n",
       "            <h3 style=\"margin-bottom: 0px;\">Scheduler</h3>\n",
       "            <p style=\"color: #9D9D9D; margin-bottom: 0px;\">Scheduler-04baa0e3-5b41-4c17-86e9-18ae410cb5be</p>\n",
       "            <table style=\"width: 100%; text-align: left;\">\n",
       "                <tr>\n",
       "                    <td style=\"text-align: left;\">\n",
       "                        <strong>Comm:</strong> tcp://127.0.0.1:42597\n",
       "                    </td>\n",
       "                    <td style=\"text-align: left;\">\n",
       "                        <strong>Workers:</strong> 4\n",
       "                    </td>\n",
       "                </tr>\n",
       "                <tr>\n",
       "                    <td style=\"text-align: left;\">\n",
       "                        <strong>Dashboard:</strong> <a href=\"/proxy/8787/status\" target=\"_blank\">/proxy/8787/status</a>\n",
       "                    </td>\n",
       "                    <td style=\"text-align: left;\">\n",
       "                        <strong>Total threads:</strong> 4\n",
       "                    </td>\n",
       "                </tr>\n",
       "                <tr>\n",
       "                    <td style=\"text-align: left;\">\n",
       "                        <strong>Started:</strong> Just now\n",
       "                    </td>\n",
       "                    <td style=\"text-align: left;\">\n",
       "                        <strong>Total memory:</strong> 11.23 GiB\n",
       "                    </td>\n",
       "                </tr>\n",
       "            </table>\n",
       "        </div>\n",
       "    </div>\n",
       "\n",
       "    <details style=\"margin-left: 48px;\">\n",
       "        <summary style=\"margin-bottom: 20px;\">\n",
       "            <h3 style=\"display: inline;\">Workers</h3>\n",
       "        </summary>\n",
       "\n",
       "        \n",
       "        <div style=\"margin-bottom: 20px;\">\n",
       "            <div style=\"width: 24px; height: 24px; background-color: #DBF5FF; border: 3px solid #4CC9FF; border-radius: 5px; position: absolute;\"> </div>\n",
       "            <div style=\"margin-left: 48px;\">\n",
       "            <details>\n",
       "                <summary>\n",
       "                    <h4 style=\"margin-bottom: 0px; display: inline;\">Worker: 0</h4>\n",
       "                </summary>\n",
       "                <table style=\"width: 100%; text-align: left;\">\n",
       "                    <tr>\n",
       "                        <td style=\"text-align: left;\">\n",
       "                            <strong>Comm: </strong> tcp://127.0.0.1:40501\n",
       "                        </td>\n",
       "                        <td style=\"text-align: left;\">\n",
       "                            <strong>Total threads: </strong> 1\n",
       "                        </td>\n",
       "                    </tr>\n",
       "                    <tr>\n",
       "                        <td style=\"text-align: left;\">\n",
       "                            <strong>Dashboard: </strong> <a href=\"/proxy/37929/status\" target=\"_blank\">/proxy/37929/status</a>\n",
       "                        </td>\n",
       "                        <td style=\"text-align: left;\">\n",
       "                            <strong>Memory: </strong> 2.81 GiB\n",
       "                        </td>\n",
       "                    </tr>\n",
       "                    <tr>\n",
       "                        <td style=\"text-align: left;\">\n",
       "                            <strong>Nanny: </strong> tcp://127.0.0.1:40751\n",
       "                        </td>\n",
       "                        <td style=\"text-align: left;\"></td>\n",
       "                    </tr>\n",
       "                    <tr>\n",
       "                        <td colspan=\"2\" style=\"text-align: left;\">\n",
       "                            <strong>Local directory: </strong> /local/hh5/sg7549/tmp/dask-worker-space/worker-yy2v1989\n",
       "                        </td>\n",
       "                    </tr>\n",
       "\n",
       "                    \n",
       "\n",
       "                    \n",
       "\n",
       "                </table>\n",
       "            </details>\n",
       "            </div>\n",
       "        </div>\n",
       "        \n",
       "        <div style=\"margin-bottom: 20px;\">\n",
       "            <div style=\"width: 24px; height: 24px; background-color: #DBF5FF; border: 3px solid #4CC9FF; border-radius: 5px; position: absolute;\"> </div>\n",
       "            <div style=\"margin-left: 48px;\">\n",
       "            <details>\n",
       "                <summary>\n",
       "                    <h4 style=\"margin-bottom: 0px; display: inline;\">Worker: 1</h4>\n",
       "                </summary>\n",
       "                <table style=\"width: 100%; text-align: left;\">\n",
       "                    <tr>\n",
       "                        <td style=\"text-align: left;\">\n",
       "                            <strong>Comm: </strong> tcp://127.0.0.1:43849\n",
       "                        </td>\n",
       "                        <td style=\"text-align: left;\">\n",
       "                            <strong>Total threads: </strong> 1\n",
       "                        </td>\n",
       "                    </tr>\n",
       "                    <tr>\n",
       "                        <td style=\"text-align: left;\">\n",
       "                            <strong>Dashboard: </strong> <a href=\"/proxy/34051/status\" target=\"_blank\">/proxy/34051/status</a>\n",
       "                        </td>\n",
       "                        <td style=\"text-align: left;\">\n",
       "                            <strong>Memory: </strong> 2.81 GiB\n",
       "                        </td>\n",
       "                    </tr>\n",
       "                    <tr>\n",
       "                        <td style=\"text-align: left;\">\n",
       "                            <strong>Nanny: </strong> tcp://127.0.0.1:35233\n",
       "                        </td>\n",
       "                        <td style=\"text-align: left;\"></td>\n",
       "                    </tr>\n",
       "                    <tr>\n",
       "                        <td colspan=\"2\" style=\"text-align: left;\">\n",
       "                            <strong>Local directory: </strong> /local/hh5/sg7549/tmp/dask-worker-space/worker-vjbuglki\n",
       "                        </td>\n",
       "                    </tr>\n",
       "\n",
       "                    \n",
       "\n",
       "                    \n",
       "\n",
       "                </table>\n",
       "            </details>\n",
       "            </div>\n",
       "        </div>\n",
       "        \n",
       "        <div style=\"margin-bottom: 20px;\">\n",
       "            <div style=\"width: 24px; height: 24px; background-color: #DBF5FF; border: 3px solid #4CC9FF; border-radius: 5px; position: absolute;\"> </div>\n",
       "            <div style=\"margin-left: 48px;\">\n",
       "            <details>\n",
       "                <summary>\n",
       "                    <h4 style=\"margin-bottom: 0px; display: inline;\">Worker: 2</h4>\n",
       "                </summary>\n",
       "                <table style=\"width: 100%; text-align: left;\">\n",
       "                    <tr>\n",
       "                        <td style=\"text-align: left;\">\n",
       "                            <strong>Comm: </strong> tcp://127.0.0.1:36903\n",
       "                        </td>\n",
       "                        <td style=\"text-align: left;\">\n",
       "                            <strong>Total threads: </strong> 1\n",
       "                        </td>\n",
       "                    </tr>\n",
       "                    <tr>\n",
       "                        <td style=\"text-align: left;\">\n",
       "                            <strong>Dashboard: </strong> <a href=\"/proxy/45821/status\" target=\"_blank\">/proxy/45821/status</a>\n",
       "                        </td>\n",
       "                        <td style=\"text-align: left;\">\n",
       "                            <strong>Memory: </strong> 2.81 GiB\n",
       "                        </td>\n",
       "                    </tr>\n",
       "                    <tr>\n",
       "                        <td style=\"text-align: left;\">\n",
       "                            <strong>Nanny: </strong> tcp://127.0.0.1:34577\n",
       "                        </td>\n",
       "                        <td style=\"text-align: left;\"></td>\n",
       "                    </tr>\n",
       "                    <tr>\n",
       "                        <td colspan=\"2\" style=\"text-align: left;\">\n",
       "                            <strong>Local directory: </strong> /local/hh5/sg7549/tmp/dask-worker-space/worker-yqhd0uva\n",
       "                        </td>\n",
       "                    </tr>\n",
       "\n",
       "                    \n",
       "\n",
       "                    \n",
       "\n",
       "                </table>\n",
       "            </details>\n",
       "            </div>\n",
       "        </div>\n",
       "        \n",
       "        <div style=\"margin-bottom: 20px;\">\n",
       "            <div style=\"width: 24px; height: 24px; background-color: #DBF5FF; border: 3px solid #4CC9FF; border-radius: 5px; position: absolute;\"> </div>\n",
       "            <div style=\"margin-left: 48px;\">\n",
       "            <details>\n",
       "                <summary>\n",
       "                    <h4 style=\"margin-bottom: 0px; display: inline;\">Worker: 3</h4>\n",
       "                </summary>\n",
       "                <table style=\"width: 100%; text-align: left;\">\n",
       "                    <tr>\n",
       "                        <td style=\"text-align: left;\">\n",
       "                            <strong>Comm: </strong> tcp://127.0.0.1:40099\n",
       "                        </td>\n",
       "                        <td style=\"text-align: left;\">\n",
       "                            <strong>Total threads: </strong> 1\n",
       "                        </td>\n",
       "                    </tr>\n",
       "                    <tr>\n",
       "                        <td style=\"text-align: left;\">\n",
       "                            <strong>Dashboard: </strong> <a href=\"/proxy/38801/status\" target=\"_blank\">/proxy/38801/status</a>\n",
       "                        </td>\n",
       "                        <td style=\"text-align: left;\">\n",
       "                            <strong>Memory: </strong> 2.81 GiB\n",
       "                        </td>\n",
       "                    </tr>\n",
       "                    <tr>\n",
       "                        <td style=\"text-align: left;\">\n",
       "                            <strong>Nanny: </strong> tcp://127.0.0.1:35911\n",
       "                        </td>\n",
       "                        <td style=\"text-align: left;\"></td>\n",
       "                    </tr>\n",
       "                    <tr>\n",
       "                        <td colspan=\"2\" style=\"text-align: left;\">\n",
       "                            <strong>Local directory: </strong> /local/hh5/sg7549/tmp/dask-worker-space/worker-vqqofxpr\n",
       "                        </td>\n",
       "                    </tr>\n",
       "\n",
       "                    \n",
       "\n",
       "                    \n",
       "\n",
       "                </table>\n",
       "            </details>\n",
       "            </div>\n",
       "        </div>\n",
       "        \n",
       "\n",
       "    </details>\n",
       "</div>\n",
       "\n",
       "        </details>\n",
       "    </div>\n",
       "</div>\n",
       "            </details>\n",
       "        \n",
       "\n",
       "    </div>\n",
       "</div>"
      ],
      "text/plain": [
       "<Client: 'tcp://127.0.0.1:42597' processes=4 threads=4, memory=11.23 GiB>"
      ]
     },
     "execution_count": 1,
     "metadata": {},
     "output_type": "execute_result"
    }
   ],
   "source": [
    "# Import basic libraries\n",
    "import dask.distributed as dsk\n",
    "import glob\n",
    "import matplotlib.pyplot as plt\n",
    "import numpy as np\n",
    "import pandas as pd\n",
    "import xarray as xr\n",
    "\n",
    "# Plotting libraries\n",
    "import cartopy.feature as cfeature\n",
    "import cartopy.crs as ccrs\n",
    "import cmocean as cm\n",
    "import matplotlib.pyplot as plt\n",
    "\n",
    "# Start client\n",
    "clnt = dsk.Client()\n",
    "clnt"
   ]
  },
  {
   "cell_type": "markdown",
   "id": "f4cce358-bf68-4285-bcc8-301ca6cd8e66",
   "metadata": {
    "jp-MarkdownHeadingCollapsed": true,
    "tags": []
   },
   "source": [
    "# Monthly averaged data"
   ]
  },
  {
   "cell_type": "code",
   "execution_count": 2,
   "id": "94b8896b-3786-46b4-8273-cbf68ef8ca29",
   "metadata": {},
   "outputs": [],
   "source": [
    "path_era5_monthly = '/g/data/rt52/era5/single-levels/monthly-averaged/'"
   ]
  },
  {
   "cell_type": "code",
   "execution_count": 3,
   "id": "782f42b5-45e4-4eac-a6a3-848a546f31b5",
   "metadata": {},
   "outputs": [],
   "source": [
    "# These are the directory names, concatonated on the path above\n",
    "variables = ['2t', 'mtpr', '10u', '10v', 'msdrswrf', 'aluvp']"
   ]
  },
  {
   "cell_type": "markdown",
   "id": "c835af22-6ee1-4a69-817c-3e0f09c36684",
   "metadata": {},
   "source": [
    "- Open concatenated datasets:"
   ]
  },
  {
   "cell_type": "code",
   "execution_count": 4,
   "id": "ad52fab3-0e85-44fc-898b-dba3b560fae1",
   "metadata": {},
   "outputs": [
    {
     "name": "stdout",
     "output_type": "stream",
     "text": [
      "Opening: 2t\n",
      "Opened\n",
      "Opening: mtpr\n",
      "Opened\n",
      "Opening: 10u\n",
      "Opened\n",
      "Opening: 10v\n",
      "Opened\n",
      "Opening: msdrswrf\n",
      "Opened\n",
      "Opening: aluvp\n",
      "Opened\n"
     ]
    }
   ],
   "source": [
    "# data is an empty dictionary\n",
    "data = {}\n",
    "# loop for the list in variables \n",
    "for v in variables:\n",
    "    print('Opening: '+v)\n",
    "    # loop through all directories to find the data files required over multiple years\n",
    "    listv = np.sort(glob.glob(path_era5_monthly+v+'/**/*.nc'))\n",
    "    data[v] = xr.open_mfdataset(listv)\n",
    "    print('Opened')\n",
    "data['sns'] = (1 - data['aluvp']['aluvp'])*data['msdrswrf']['msdrswrf']\n",
    "data['wind'] = np.sqrt(data['10u']['u10']**2+data['10v']['v10']**2).rename('wind')"
   ]
  },
  {
   "cell_type": "markdown",
   "id": "39b64716-15db-4411-b048-d2dfce6967d6",
   "metadata": {},
   "source": [
    "- Extract the locations of interest and put them in a dataarray:"
   ]
  },
  {
   "cell_type": "code",
   "execution_count": 5,
   "id": "a89071a2-23db-41d0-8081-03b4863270b6",
   "metadata": {},
   "outputs": [],
   "source": [
    "df = pd.read_csv('/g/data/e14/jn8053/andy-pitman/islands_AUS_export.csv')\n",
    "locations = df.to_xarray()\n",
    "extracted_data = xr.Dataset(data_vars = {'ulm_ID':locations['ulm_ID'],'long':locations['long'],'lat':locations['lat']})"
   ]
  },
  {
   "cell_type": "markdown",
   "id": "6b81f8f0-befd-4813-b991-b2d3552f49fb",
   "metadata": {},
   "source": [
    "- Get nearest point in ERA5 for all variables (removing u10 and v10 from the list because we don't want them):"
   ]
  },
  {
   "cell_type": "code",
   "execution_count": null,
   "id": "7d3b78a3-f009-47d1-96fc-7b9307085f39",
   "metadata": {},
   "outputs": [],
   "source": [
    "for v in ['2t', 'mtpr', 'wind', 'msdrswrf', 'aluvp', 'sns']:\n",
    "    for var_name in data[v].data_vars:\n",
    "        ext = data[v][var_name].sel(longitude = extracted_data['long'], latitude = extracted_data['lat'], method = 'nearest')\n",
    "        extracted_data[v] = xr.DataArray(ext, \n",
    "                                         dims = {'index', 'time'}, \n",
    "                                         coords = {'index':extracted_data['index'], 'time':data[v]['time']}).rename(v)"
   ]
  },
  {
   "cell_type": "markdown",
   "id": "3b1610da-4ebc-4ef9-a9c1-d19c06808418",
   "metadata": {},
   "source": [
    "- Replace negative values in rainfall with 0"
   ]
  },
  {
   "cell_type": "code",
   "execution_count": null,
   "id": "1471be4c-0c5e-4ae6-9165-e2ce978a27be",
   "metadata": {},
   "outputs": [],
   "source": [
    "extracted_data['mtpr'] = xr.where(old_ncfile['mtpr']<0, 0, old_ncfile['mtpr'])"
   ]
  },
  {
   "cell_type": "markdown",
   "id": "39710316-1b06-41ac-8325-db894582b8c8",
   "metadata": {},
   "source": [
    "- Add land mask.\n",
    "For this, we open a variable that we know is masked. In this case, wind.\n",
    "Open just one file, we don't care about time variations"
   ]
  },
  {
   "cell_type": "code",
   "execution_count": 9,
   "id": "96d24101-bef0-4e0d-8fe0-7de3b2ec55a6",
   "metadata": {},
   "outputs": [
    {
     "data": {
      "text/plain": [
       "<matplotlib.collections.QuadMesh at 0x7f2fb58907f0>"
      ]
     },
     "execution_count": 9,
     "metadata": {},
     "output_type": "execute_result"
    },
    {
     "data": {
      "image/png": "[encoded data removed]",
      "text/plain": [
       "<Figure size 432x288 with 2 Axes>"
      ]
     },
     "metadata": {
      "needs_background": "light"
     },
     "output_type": "display_data"
    }
   ],
   "source": [
    "\n",
    "mask = xr.open_dataset('/g/data/rt52/era5/single-levels/monthly-averaged/wind/1979/wind_era5_moda_sfc_19790101-19790131.nc')['wind']\n",
    "mask = xr.where(np.isnan(mask), 1, 0).rename('land_mask')\n",
    "mask.plot()"
   ]
  },
  {
   "cell_type": "code",
   "execution_count": null,
   "id": "af188098-9b30-4e7f-b1e4-96520b5795b1",
   "metadata": {},
   "outputs": [],
   "source": [
    "ext = mask.sel(longitude = extracted_data['long'], latitude = extracted_data['lat'], method = 'nearest')\n",
    "extracted_data['land_mask'] = xr.DataArray(ext, \n",
    "                                           dims = {'index'}, \n",
    "                                           coords = {'index':extracted_data['index']})"
   ]
  },
  {
   "cell_type": "code",
   "execution_count": 11,
   "id": "10ebab29-2e32-450e-bc96-e23df4b325df",
   "metadata": {},
   "outputs": [],
   "source": [
    "# write out the data\n",
    "# This data DOESN'T have Tmax, Tmin, or RH. Go to last section in this notebook for that.\n",
    "extracted_data.to_netcdf('ERA5-monthly_averaged.nc')"
   ]
  },
  {
   "cell_type": "code",
   "execution_count": null,
   "id": "bad6ad49-0542-48e6-8451-e9a4b3efc80b",
   "metadata": {},
   "outputs": [],
   "source": []
  },
  {
   "cell_type": "code",
   "execution_count": null,
   "id": "3aacbe0e-a8dd-4e7f-a1de-b8f45a552aa5",
   "metadata": {},
   "outputs": [],
   "source": []
  },
  {
   "cell_type": "markdown",
   "id": "4c1b8336-bd9c-4af4-be84-bb76743a10a5",
   "metadata": {},
   "source": [
    "# Daily averaged data"
   ]
  },
  {
   "cell_type": "code",
   "execution_count": 2,
   "id": "2ba0b310-3eea-4fc6-ae02-39c7118d6680",
   "metadata": {},
   "outputs": [],
   "source": [
    "df = pd.read_csv('/g/data/e14/jn8053/andy-pitman/islands_AUS_export.csv')\n",
    "locations = df.to_xarray()\n",
    "extracted_data = xr.Dataset(data_vars = {'ulm_ID':locations['ulm_ID'],'long':locations['long'],'lat':locations['lat']})"
   ]
  },
  {
   "cell_type": "markdown",
   "id": "97211b27-ea97-41bc-802a-43f817f6a2ae",
   "metadata": {},
   "source": [
    "- Load the required Lat & Long coordinates\n",
    "- Resample the data from hourly to daily"
   ]
  },
  {
   "cell_type": "code",
   "execution_count": 7,
   "id": "3a4bd40b-cb97-4fac-ad8e-a70dff0d6dad",
   "metadata": {},
   "outputs": [],
   "source": [
    "def preprocessing(ds):\n",
    "    # Preprocess to extract everything above 70S\n",
    "    ds = ds.sel(time = slice('2005-01-01', '2020-01-01'), longitude = slice(156, -156), latitude = slice(90, -70))\n",
    "    # Resample to daily via averaging\n",
    "    ds = ds.resample(time = '1D').mean('time')\n",
    "    return ds"
   ]
  },
  {
   "cell_type": "code",
   "execution_count": 4,
   "id": "ed330566-f37b-46ad-9e6b-0be3d4eff58b",
   "metadata": {},
   "outputs": [],
   "source": [
    "path_era5_daily = '/g/data/rt52/era5/single-levels/reanalysis/'"
   ]
  },
  {
   "cell_type": "code",
   "execution_count": 5,
   "id": "cc8da34f-4b5e-4110-9bb2-965b2cf0d5e1",
   "metadata": {
    "tags": []
   },
   "outputs": [],
   "source": [
    "#variables = ['mtpr', 'mn2t', 'mx2t', '10fg']\n",
    "variables = ['mtpr']"
   ]
  },
  {
   "cell_type": "markdown",
   "id": "9cc41a14-546f-465c-854e-5424a8ce7be8",
   "metadata": {
    "tags": []
   },
   "source": [
    "- Open the datasets and apply the preprocessing function"
   ]
  },
  {
   "cell_type": "code",
   "execution_count": 11,
   "id": "d95c380e-10b5-4973-bae8-b7791c3e3306",
   "metadata": {},
   "outputs": [
    {
     "name": "stdout",
     "output_type": "stream",
     "text": [
      "Opening: mtpr\n"
     ]
    },
    {
     "ename": "ValueError",
     "evalue": "Cannot handle size zero dimensions",
     "output_type": "error",
     "traceback": [
      "\u001b[0;31m---------------------------------------------------------------------------\u001b[0m",
      "\u001b[0;31mValueError\u001b[0m                                Traceback (most recent call last)",
      "\u001b[0;32m/local/hh5/sg7549/tmp/ipykernel_768701/4268919096.py\u001b[0m in \u001b[0;36m<cell line: 2>\u001b[0;34m()\u001b[0m\n\u001b[1;32m      3\u001b[0m     \u001b[0mprint\u001b[0m\u001b[0;34m(\u001b[0m\u001b[0;34m'Opening: '\u001b[0m\u001b[0;34m+\u001b[0m\u001b[0mv\u001b[0m\u001b[0;34m)\u001b[0m\u001b[0;34m\u001b[0m\u001b[0;34m\u001b[0m\u001b[0m\n\u001b[1;32m      4\u001b[0m     \u001b[0mlistv\u001b[0m \u001b[0;34m=\u001b[0m \u001b[0mnp\u001b[0m\u001b[0;34m.\u001b[0m\u001b[0msort\u001b[0m\u001b[0;34m(\u001b[0m\u001b[0mglob\u001b[0m\u001b[0;34m.\u001b[0m\u001b[0mglob\u001b[0m\u001b[0;34m(\u001b[0m\u001b[0mpath_era5_daily\u001b[0m\u001b[0;34m+\u001b[0m\u001b[0mv\u001b[0m\u001b[0;34m+\u001b[0m\u001b[0;34m'/**/*.nc'\u001b[0m\u001b[0;34m)\u001b[0m\u001b[0;34m)\u001b[0m\u001b[0;34m\u001b[0m\u001b[0;34m\u001b[0m\u001b[0m\n\u001b[0;32m----> 5\u001b[0;31m     \u001b[0mdata\u001b[0m\u001b[0;34m[\u001b[0m\u001b[0mv\u001b[0m\u001b[0;34m]\u001b[0m \u001b[0;34m=\u001b[0m \u001b[0mxr\u001b[0m\u001b[0;34m.\u001b[0m\u001b[0mopen_mfdataset\u001b[0m\u001b[0;34m(\u001b[0m\u001b[0mlistv\u001b[0m\u001b[0;34m,\u001b[0m \u001b[0mpreprocess\u001b[0m \u001b[0;34m=\u001b[0m \u001b[0mpreprocessing\u001b[0m\u001b[0;34m,\u001b[0m \u001b[0mchunks\u001b[0m \u001b[0;34m=\u001b[0m \u001b[0;34m{\u001b[0m\u001b[0;34m'latitude'\u001b[0m\u001b[0;34m:\u001b[0m \u001b[0;36m10\u001b[0m\u001b[0;34m,\u001b[0m \u001b[0;34m'longitude'\u001b[0m\u001b[0;34m:\u001b[0m \u001b[0;36m10\u001b[0m\u001b[0;34m}\u001b[0m\u001b[0;34m)\u001b[0m\u001b[0;34m\u001b[0m\u001b[0;34m\u001b[0m\u001b[0m\n\u001b[0m\u001b[1;32m      6\u001b[0m     \u001b[0mprint\u001b[0m\u001b[0;34m(\u001b[0m\u001b[0;34m'Opened'\u001b[0m\u001b[0;34m)\u001b[0m\u001b[0;34m\u001b[0m\u001b[0;34m\u001b[0m\u001b[0m\n",
      "\u001b[0;32m/g/data/hh5/public/apps/miniconda3/envs/analysis3-22.04/lib/python3.9/site-packages/xarray/backends/api.py\u001b[0m in \u001b[0;36mopen_mfdataset\u001b[0;34m(paths, chunks, concat_dim, compat, preprocess, engine, data_vars, coords, combine, parallel, join, attrs_file, combine_attrs, **kwargs)\u001b[0m\n\u001b[1;32m    934\u001b[0m             \u001b[0;31m# Redo ordering from coordinates, ignoring how they were ordered\u001b[0m\u001b[0;34m\u001b[0m\u001b[0;34m\u001b[0m\u001b[0m\n\u001b[1;32m    935\u001b[0m             \u001b[0;31m# previously\u001b[0m\u001b[0;34m\u001b[0m\u001b[0;34m\u001b[0m\u001b[0m\n\u001b[0;32m--> 936\u001b[0;31m             combined = combine_by_coords(\n\u001b[0m\u001b[1;32m    937\u001b[0m                 \u001b[0mdatasets\u001b[0m\u001b[0;34m,\u001b[0m\u001b[0;34m\u001b[0m\u001b[0;34m\u001b[0m\u001b[0m\n\u001b[1;32m    938\u001b[0m                 \u001b[0mcompat\u001b[0m\u001b[0;34m=\u001b[0m\u001b[0mcompat\u001b[0m\u001b[0;34m,\u001b[0m\u001b[0;34m\u001b[0m\u001b[0;34m\u001b[0m\u001b[0m\n",
      "\u001b[0;32m/g/data/hh5/public/apps/miniconda3/envs/analysis3-22.04/lib/python3.9/site-packages/xarray/core/combine.py\u001b[0m in \u001b[0;36mcombine_by_coords\u001b[0;34m(data_objects, compat, data_vars, coords, fill_value, join, combine_attrs, datasets)\u001b[0m\n\u001b[1;32m    973\u001b[0m         \u001b[0mconcatenated_grouped_by_data_vars\u001b[0m \u001b[0;34m=\u001b[0m \u001b[0;34m[\u001b[0m\u001b[0;34m]\u001b[0m\u001b[0;34m\u001b[0m\u001b[0;34m\u001b[0m\u001b[0m\n\u001b[1;32m    974\u001b[0m         \u001b[0;32mfor\u001b[0m \u001b[0mvars\u001b[0m\u001b[0;34m,\u001b[0m \u001b[0mdatasets_with_same_vars\u001b[0m \u001b[0;32min\u001b[0m \u001b[0mgrouped_by_vars\u001b[0m\u001b[0;34m:\u001b[0m\u001b[0;34m\u001b[0m\u001b[0;34m\u001b[0m\u001b[0m\n\u001b[0;32m--> 975\u001b[0;31m             concatenated = _combine_single_variable_hypercube(\n\u001b[0m\u001b[1;32m    976\u001b[0m                 \u001b[0mlist\u001b[0m\u001b[0;34m(\u001b[0m\u001b[0mdatasets_with_same_vars\u001b[0m\u001b[0;34m)\u001b[0m\u001b[0;34m,\u001b[0m\u001b[0;34m\u001b[0m\u001b[0;34m\u001b[0m\u001b[0m\n\u001b[1;32m    977\u001b[0m                 \u001b[0mfill_value\u001b[0m\u001b[0;34m=\u001b[0m\u001b[0mfill_value\u001b[0m\u001b[0;34m,\u001b[0m\u001b[0;34m\u001b[0m\u001b[0;34m\u001b[0m\u001b[0m\n",
      "\u001b[0;32m/g/data/hh5/public/apps/miniconda3/envs/analysis3-22.04/lib/python3.9/site-packages/xarray/core/combine.py\u001b[0m in \u001b[0;36m_combine_single_variable_hypercube\u001b[0;34m(datasets, fill_value, data_vars, coords, compat, join, combine_attrs)\u001b[0m\n\u001b[1;32m    624\u001b[0m         )\n\u001b[1;32m    625\u001b[0m \u001b[0;34m\u001b[0m\u001b[0m\n\u001b[0;32m--> 626\u001b[0;31m     \u001b[0mcombined_ids\u001b[0m\u001b[0;34m,\u001b[0m \u001b[0mconcat_dims\u001b[0m \u001b[0;34m=\u001b[0m \u001b[0m_infer_concat_order_from_coords\u001b[0m\u001b[0;34m(\u001b[0m\u001b[0mlist\u001b[0m\u001b[0;34m(\u001b[0m\u001b[0mdatasets\u001b[0m\u001b[0;34m)\u001b[0m\u001b[0;34m)\u001b[0m\u001b[0;34m\u001b[0m\u001b[0;34m\u001b[0m\u001b[0m\n\u001b[0m\u001b[1;32m    627\u001b[0m \u001b[0;34m\u001b[0m\u001b[0m\n\u001b[1;32m    628\u001b[0m     \u001b[0;32mif\u001b[0m \u001b[0mfill_value\u001b[0m \u001b[0;32mis\u001b[0m \u001b[0;32mNone\u001b[0m\u001b[0;34m:\u001b[0m\u001b[0;34m\u001b[0m\u001b[0;34m\u001b[0m\u001b[0m\n",
      "\u001b[0;32m/g/data/hh5/public/apps/miniconda3/envs/analysis3-22.04/lib/python3.9/site-packages/xarray/core/combine.py\u001b[0m in \u001b[0;36m_infer_concat_order_from_coords\u001b[0;34m(datasets)\u001b[0m\n\u001b[1;32m    118\u001b[0m                 \u001b[0;31m# with the same value have the same coord values throughout.\u001b[0m\u001b[0;34m\u001b[0m\u001b[0;34m\u001b[0m\u001b[0m\n\u001b[1;32m    119\u001b[0m                 \u001b[0;32mif\u001b[0m \u001b[0many\u001b[0m\u001b[0;34m(\u001b[0m\u001b[0mindex\u001b[0m\u001b[0;34m.\u001b[0m\u001b[0msize\u001b[0m \u001b[0;34m==\u001b[0m \u001b[0;36m0\u001b[0m \u001b[0;32mfor\u001b[0m \u001b[0mindex\u001b[0m \u001b[0;32min\u001b[0m \u001b[0mindexes\u001b[0m\u001b[0;34m)\u001b[0m\u001b[0;34m:\u001b[0m\u001b[0;34m\u001b[0m\u001b[0;34m\u001b[0m\u001b[0m\n\u001b[0;32m--> 120\u001b[0;31m                     \u001b[0;32mraise\u001b[0m \u001b[0mValueError\u001b[0m\u001b[0;34m(\u001b[0m\u001b[0;34m\"Cannot handle size zero dimensions\"\u001b[0m\u001b[0;34m)\u001b[0m\u001b[0;34m\u001b[0m\u001b[0;34m\u001b[0m\u001b[0m\n\u001b[0m\u001b[1;32m    121\u001b[0m                 \u001b[0mfirst_items\u001b[0m \u001b[0;34m=\u001b[0m \u001b[0mpd\u001b[0m\u001b[0;34m.\u001b[0m\u001b[0mIndex\u001b[0m\u001b[0;34m(\u001b[0m\u001b[0;34m[\u001b[0m\u001b[0mindex\u001b[0m\u001b[0;34m[\u001b[0m\u001b[0;36m0\u001b[0m\u001b[0;34m]\u001b[0m \u001b[0;32mfor\u001b[0m \u001b[0mindex\u001b[0m \u001b[0;32min\u001b[0m \u001b[0mindexes\u001b[0m\u001b[0;34m]\u001b[0m\u001b[0;34m)\u001b[0m\u001b[0;34m\u001b[0m\u001b[0;34m\u001b[0m\u001b[0m\n\u001b[1;32m    122\u001b[0m \u001b[0;34m\u001b[0m\u001b[0m\n",
      "\u001b[0;31mValueError\u001b[0m: Cannot handle size zero dimensions"
     ]
    }
   ],
   "source": [
    "data = {}\n",
    "for v in variables:\n",
    "    print('Opening: '+v)\n",
    "    listv = np.sort(glob.glob(path_era5_daily+v+'/**/*.nc'))\n",
    "    data[v] = xr.open_mfdataset(listv, preprocess = preprocessing, chunks = {'latitude': 10, 'longitude': 10})\n",
    "    print('Opened')"
   ]
  },
  {
   "cell_type": "code",
   "execution_count": 15,
   "id": "cfead7f9-9534-4033-8669-c660f1814e3c",
   "metadata": {},
   "outputs": [
    {
     "data": {
      "text/plain": [
       "{'mtpr': <xarray.Dataset>\n",
       " Dimensions:    (time: 15826, longitude: 1, latitude: 641)\n",
       " Coordinates:\n",
       "   * time       (time) datetime64[ns] 1979-01-01 1979-01-02 ... 2022-04-30\n",
       "   * longitude  (longitude) float32 156.0\n",
       "   * latitude   (latitude) float32 90.0 89.75 89.5 89.25 ... -69.5 -69.75 -70.0\n",
       " Data variables:\n",
       "     mtpr       (time, latitude, longitude) float32 dask.array<chunksize=(1, 10, 1), meta=np.ndarray>,\n",
       " 'mn2t': <xarray.Dataset>\n",
       " Dimensions:    (time: 15826, longitude: 1, latitude: 641)\n",
       " Coordinates:\n",
       "   * time       (time) datetime64[ns] 1979-01-01 1979-01-02 ... 2022-04-30\n",
       "   * longitude  (longitude) float32 156.0\n",
       "   * latitude   (latitude) float32 90.0 89.75 89.5 89.25 ... -69.5 -69.75 -70.0\n",
       " Data variables:\n",
       "     mn2t       (time, latitude, longitude) float32 dask.array<chunksize=(1, 10, 1), meta=np.ndarray>,\n",
       " 'mx2t': <xarray.Dataset>\n",
       " Dimensions:    (time: 15826, longitude: 1, latitude: 641)\n",
       " Coordinates:\n",
       "   * time       (time) datetime64[ns] 1979-01-01 1979-01-02 ... 2022-04-30\n",
       "   * longitude  (longitude) float32 156.0\n",
       "   * latitude   (latitude) float32 90.0 89.75 89.5 89.25 ... -69.5 -69.75 -70.0\n",
       " Data variables:\n",
       "     mx2t       (time, latitude, longitude) float32 dask.array<chunksize=(1, 10, 1), meta=np.ndarray>,\n",
       " '10fg': <xarray.Dataset>\n",
       " Dimensions:    (time: 15826, longitude: 1, latitude: 641)\n",
       " Coordinates:\n",
       "   * time       (time) datetime64[ns] 1979-01-01 1979-01-02 ... 2022-04-30\n",
       "   * longitude  (longitude) float32 156.0\n",
       "   * latitude   (latitude) float32 90.0 89.75 89.5 89.25 ... -69.5 -69.75 -70.0\n",
       " Data variables:\n",
       "     fg10       (time, latitude, longitude) float32 dask.array<chunksize=(1, 10, 1), meta=np.ndarray>}"
      ]
     },
     "execution_count": 15,
     "metadata": {},
     "output_type": "execute_result"
    }
   ],
   "source": [
    "data"
   ]
  },
  {
   "cell_type": "code",
   "execution_count": 12,
   "id": "edbc28cb-340c-49c2-b143-0e1afc73fcc0",
   "metadata": {},
   "outputs": [],
   "source": [
    "extracted_data.to_netcdf('ERA5-daily_averaged_mtpr.nc')"
   ]
  },
  {
   "cell_type": "code",
   "execution_count": null,
   "id": "52fc79df-f129-4440-920f-ce78abde2a96",
   "metadata": {},
   "outputs": [],
   "source": []
  }
 ],
 "metadata": {
  "kernelspec": {
   "display_name": "Python [conda env:analysis3-22.04]",
   "language": "python",
   "name": "conda-env-analysis3-22.04-py"
  },
  "language_info": {
   "codemirror_mode": {
    "name": "ipython",
    "version": 3
   },
   "file_extension": ".py",
   "mimetype": "text/x-python",
   "name": "python",
   "nbconvert_exporter": "python",
   "pygments_lexer": "ipython3",
   "version": "3.9.13"
  }
 },
 "nbformat": 4,
 "nbformat_minor": 5
}
